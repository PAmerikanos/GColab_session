{
  "nbformat": 4,
  "nbformat_minor": 0,
  "metadata": {
    "colab": {
      "name": "GColab_test_session_duration.ipynb",
      "provenance": [],
      "collapsed_sections": [],
      "authorship_tag": "ABX9TyMiwQbyh/tAQKOlHs1eJV1n",
      "include_colab_link": true
    },
    "kernelspec": {
      "name": "python3",
      "display_name": "Python 3"
    },
    "language_info": {
      "name": "python"
    }
  },
  "cells": [
    {
      "cell_type": "markdown",
      "metadata": {
        "id": "view-in-github",
        "colab_type": "text"
      },
      "source": [
        "<a href=\"https://colab.research.google.com/github/PAmerikanos/GColab_session/blob/main/GColab_test_session_duration.ipynb\" target=\"_parent\"><img src=\"https://colab.research.google.com/assets/colab-badge.svg\" alt=\"Open In Colab\"/></a>"
      ]
    },
    {
      "cell_type": "markdown",
      "metadata": {
        "id": "VnLZAecxFS4C"
      },
      "source": [
        "[![Open In Colab](https://colab.research.google.com/assets/colab-badge.svg)](https://colab.research.google.com/github/googlecolab/colabtools/blob/master/notebooks/colab-github-demo.ipynb)"
      ]
    },
    {
      "cell_type": "code",
      "metadata": {
        "colab": {
          "base_uri": "https://localhost:8080/",
          "height": 17
        },
        "id": "wDrpoQNA6OVQ",
        "outputId": "f1c02e73-1d5c-4401-8983-8e916ccc71a7"
      },
      "source": [
        "%%javascript\n",
        "\n",
        "function ConnectButton(){\n",
        "    console.log(\"Connect pushed\"); \n",
        "    document.querySelector(\"#top-toolbar > colab-connect-button\").shadowRoot.querySelector(\"#connect\").click() \n",
        "}\n",
        "setInterval(ConnectButton,60000);"
      ],
      "execution_count": 6,
      "outputs": [
        {
          "output_type": "display_data",
          "data": {
            "application/javascript": [
              "\n",
              "function ConnectButton(){\n",
              "    console.log(\"Connect pushed\"); \n",
              "    document.querySelector(\"#top-toolbar > colab-connect-button\").shadowRoot.querySelector(\"#connect\").click() \n",
              "}\n",
              "setInterval(ConnectButton,60000);"
            ],
            "text/plain": [
              "<IPython.core.display.Javascript object>"
            ]
          },
          "metadata": {
            "tags": []
          }
        }
      ]
    },
    {
      "cell_type": "code",
      "metadata": {
        "id": "fjkD_5fq6mrW"
      },
      "source": [
        "import time\n",
        "import datetime\n",
        "from IPython.display import clear_output"
      ],
      "execution_count": 7,
      "outputs": []
    },
    {
      "cell_type": "code",
      "metadata": {
        "colab": {
          "base_uri": "https://localhost:8080/"
        },
        "id": "tNIaYnGQ6QuL",
        "outputId": "8e8df7bc-130c-4635-801b-d2feb7b646a0"
      },
      "source": [
        "print(\"Start date and time: \", datetime.datetime.now())"
      ],
      "execution_count": 8,
      "outputs": [
        {
          "output_type": "stream",
          "text": [
            "Start date and time:  2021-05-27 04:29:11.671038\n"
          ],
          "name": "stdout"
        }
      ]
    },
    {
      "cell_type": "code",
      "metadata": {
        "colab": {
          "base_uri": "https://localhost:8080/"
        },
        "id": "4MSI7D0h6asf",
        "outputId": "ba81e83c-ca89-4213-8037-fc870c33c1a0"
      },
      "source": [
        "while True:\n",
        "    clear_output(wait=True)\n",
        "    print(\"Current date and time: \", datetime.datetime.now())\n",
        "    time.sleep(5)"
      ],
      "execution_count": null,
      "outputs": [
        {
          "output_type": "stream",
          "text": [
            "Current date and time:  2021-05-27 04:32:46.976769\n"
          ],
          "name": "stdout"
        }
      ]
    }
  ]
}